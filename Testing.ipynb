{
 "cells": [
  {
   "cell_type": "code",
   "execution_count": 2,
   "metadata": {},
   "outputs": [],
   "source": [
    "import pandas as pd\n",
    "import numpy as np"
   ]
  },
  {
   "cell_type": "code",
   "execution_count": 3,
   "metadata": {},
   "outputs": [],
   "source": [
    "from sklearn.cluster import KMeans\n",
    "from sklearn.cluster import SpectralClustering\n",
    "from sklearn import metrics\n",
    "from scipy.spatial.distance import cdist"
   ]
  },
  {
   "cell_type": "code",
   "execution_count": 4,
   "metadata": {},
   "outputs": [],
   "source": [
    "from sklearn.preprocessing import StandardScaler, normalize\n",
    "from sklearn.decomposition import PCA\n",
    "from sklearn.metrics import silhouette_score"
   ]
  },
  {
   "cell_type": "code",
   "execution_count": 5,
   "metadata": {},
   "outputs": [],
   "source": [
    "import matplotlib.pyplot as plt"
   ]
  },
  {
   "cell_type": "code",
   "execution_count": 6,
   "metadata": {},
   "outputs": [],
   "source": [
    "df_vpp = pd.read_csv(\"./data/parameters_igt_vpp.csv\")"
   ]
  },
  {
   "cell_type": "code",
   "execution_count": 8,
   "metadata": {},
   "outputs": [
    {
     "data": {
      "text/html": [
       "<div>\n",
       "<style scoped>\n",
       "    .dataframe tbody tr th:only-of-type {\n",
       "        vertical-align: middle;\n",
       "    }\n",
       "\n",
       "    .dataframe tbody tr th {\n",
       "        vertical-align: top;\n",
       "    }\n",
       "\n",
       "    .dataframe thead th {\n",
       "        text-align: right;\n",
       "    }\n",
       "</style>\n",
       "<table border=\"1\" class=\"dataframe\">\n",
       "  <thead>\n",
       "    <tr style=\"text-align: right;\">\n",
       "      <th></th>\n",
       "      <th>SubID</th>\n",
       "      <th>LR</th>\n",
       "      <th>Out_Sens</th>\n",
       "      <th>Res_Cons</th>\n",
       "      <th>Loss_Aver</th>\n",
       "      <th>Gain_Impa</th>\n",
       "      <th>Loss_Impa</th>\n",
       "      <th>Deca_Rate</th>\n",
       "      <th>RL_weight</th>\n",
       "    </tr>\n",
       "  </thead>\n",
       "  <tbody>\n",
       "    <tr>\n",
       "      <th>count</th>\n",
       "      <td>153.000000</td>\n",
       "      <td>153.000000</td>\n",
       "      <td>153.000000</td>\n",
       "      <td>153.000000</td>\n",
       "      <td>153.000000</td>\n",
       "      <td>153.000000</td>\n",
       "      <td>153.000000</td>\n",
       "      <td>153.000000</td>\n",
       "      <td>153.000000</td>\n",
       "    </tr>\n",
       "    <tr>\n",
       "      <th>mean</th>\n",
       "      <td>77.000000</td>\n",
       "      <td>0.070824</td>\n",
       "      <td>0.560575</td>\n",
       "      <td>1.329323</td>\n",
       "      <td>0.952138</td>\n",
       "      <td>0.460940</td>\n",
       "      <td>-0.720379</td>\n",
       "      <td>0.406367</td>\n",
       "      <td>0.622995</td>\n",
       "    </tr>\n",
       "    <tr>\n",
       "      <th>std</th>\n",
       "      <td>44.311398</td>\n",
       "      <td>0.064683</td>\n",
       "      <td>0.111139</td>\n",
       "      <td>0.198041</td>\n",
       "      <td>0.580621</td>\n",
       "      <td>1.185591</td>\n",
       "      <td>1.102656</td>\n",
       "      <td>0.187483</td>\n",
       "      <td>0.066657</td>\n",
       "    </tr>\n",
       "    <tr>\n",
       "      <th>min</th>\n",
       "      <td>1.000000</td>\n",
       "      <td>0.027454</td>\n",
       "      <td>0.352471</td>\n",
       "      <td>0.879707</td>\n",
       "      <td>0.193857</td>\n",
       "      <td>-2.977630</td>\n",
       "      <td>-2.912838</td>\n",
       "      <td>0.042780</td>\n",
       "      <td>0.452978</td>\n",
       "    </tr>\n",
       "    <tr>\n",
       "      <th>25%</th>\n",
       "      <td>39.000000</td>\n",
       "      <td>0.038294</td>\n",
       "      <td>0.448811</td>\n",
       "      <td>1.202790</td>\n",
       "      <td>0.528927</td>\n",
       "      <td>-0.287230</td>\n",
       "      <td>-1.634716</td>\n",
       "      <td>0.256420</td>\n",
       "      <td>0.569390</td>\n",
       "    </tr>\n",
       "    <tr>\n",
       "      <th>50%</th>\n",
       "      <td>77.000000</td>\n",
       "      <td>0.050247</td>\n",
       "      <td>0.590334</td>\n",
       "      <td>1.316736</td>\n",
       "      <td>0.760613</td>\n",
       "      <td>0.593115</td>\n",
       "      <td>-0.779120</td>\n",
       "      <td>0.439912</td>\n",
       "      <td>0.640917</td>\n",
       "    </tr>\n",
       "    <tr>\n",
       "      <th>75%</th>\n",
       "      <td>115.000000</td>\n",
       "      <td>0.078495</td>\n",
       "      <td>0.646090</td>\n",
       "      <td>1.428836</td>\n",
       "      <td>1.292569</td>\n",
       "      <td>1.419412</td>\n",
       "      <td>0.137599</td>\n",
       "      <td>0.565139</td>\n",
       "      <td>0.675971</td>\n",
       "    </tr>\n",
       "    <tr>\n",
       "      <th>max</th>\n",
       "      <td>153.000000</td>\n",
       "      <td>0.617431</td>\n",
       "      <td>0.818137</td>\n",
       "      <td>1.938694</td>\n",
       "      <td>2.698527</td>\n",
       "      <td>2.559126</td>\n",
       "      <td>1.583109</td>\n",
       "      <td>0.858421</td>\n",
       "      <td>0.744017</td>\n",
       "    </tr>\n",
       "  </tbody>\n",
       "</table>\n",
       "</div>"
      ],
      "text/plain": [
       "            SubID          LR    Out_Sens    Res_Cons   Loss_Aver   Gain_Impa  \\\n",
       "count  153.000000  153.000000  153.000000  153.000000  153.000000  153.000000   \n",
       "mean    77.000000    0.070824    0.560575    1.329323    0.952138    0.460940   \n",
       "std     44.311398    0.064683    0.111139    0.198041    0.580621    1.185591   \n",
       "min      1.000000    0.027454    0.352471    0.879707    0.193857   -2.977630   \n",
       "25%     39.000000    0.038294    0.448811    1.202790    0.528927   -0.287230   \n",
       "50%     77.000000    0.050247    0.590334    1.316736    0.760613    0.593115   \n",
       "75%    115.000000    0.078495    0.646090    1.428836    1.292569    1.419412   \n",
       "max    153.000000    0.617431    0.818137    1.938694    2.698527    2.559126   \n",
       "\n",
       "        Loss_Impa   Deca_Rate   RL_weight  \n",
       "count  153.000000  153.000000  153.000000  \n",
       "mean    -0.720379    0.406367    0.622995  \n",
       "std      1.102656    0.187483    0.066657  \n",
       "min     -2.912838    0.042780    0.452978  \n",
       "25%     -1.634716    0.256420    0.569390  \n",
       "50%     -0.779120    0.439912    0.640917  \n",
       "75%      0.137599    0.565139    0.675971  \n",
       "max      1.583109    0.858421    0.744017  "
      ]
     },
     "execution_count": 8,
     "metadata": {},
     "output_type": "execute_result"
    }
   ],
   "source": [
    "df_vpp.describe()"
   ]
  },
  {
   "cell_type": "code",
   "execution_count": 15,
   "metadata": {},
   "outputs": [],
   "source": [
    "df_pvl_delta = pd.read_csv(\"./data/parameter_igt_pvl_delta.csv\")"
   ]
  },
  {
   "cell_type": "code",
   "execution_count": 16,
   "metadata": {},
   "outputs": [
    {
     "data": {
      "text/html": [
       "<div>\n",
       "<style scoped>\n",
       "    .dataframe tbody tr th:only-of-type {\n",
       "        vertical-align: middle;\n",
       "    }\n",
       "\n",
       "    .dataframe tbody tr th {\n",
       "        vertical-align: top;\n",
       "    }\n",
       "\n",
       "    .dataframe thead th {\n",
       "        text-align: right;\n",
       "    }\n",
       "</style>\n",
       "<table border=\"1\" class=\"dataframe\">\n",
       "  <thead>\n",
       "    <tr style=\"text-align: right;\">\n",
       "      <th></th>\n",
       "      <th>group</th>\n",
       "      <th>SubID</th>\n",
       "      <th>LR</th>\n",
       "      <th>Outcome_Sens</th>\n",
       "      <th>Response_cons</th>\n",
       "      <th>Loss_Aver</th>\n",
       "    </tr>\n",
       "  </thead>\n",
       "  <tbody>\n",
       "    <tr>\n",
       "      <th>0</th>\n",
       "      <td>young</td>\n",
       "      <td>1</td>\n",
       "      <td>0.159011</td>\n",
       "      <td>0.487522</td>\n",
       "      <td>0.686815</td>\n",
       "      <td>0.954498</td>\n",
       "    </tr>\n",
       "    <tr>\n",
       "      <th>1</th>\n",
       "      <td>young</td>\n",
       "      <td>2</td>\n",
       "      <td>0.064666</td>\n",
       "      <td>0.511008</td>\n",
       "      <td>1.391790</td>\n",
       "      <td>0.295529</td>\n",
       "    </tr>\n",
       "    <tr>\n",
       "      <th>2</th>\n",
       "      <td>young</td>\n",
       "      <td>3</td>\n",
       "      <td>0.113089</td>\n",
       "      <td>0.465141</td>\n",
       "      <td>0.918734</td>\n",
       "      <td>0.533232</td>\n",
       "    </tr>\n",
       "    <tr>\n",
       "      <th>3</th>\n",
       "      <td>young</td>\n",
       "      <td>4</td>\n",
       "      <td>0.089273</td>\n",
       "      <td>0.500391</td>\n",
       "      <td>0.703737</td>\n",
       "      <td>0.869859</td>\n",
       "    </tr>\n",
       "    <tr>\n",
       "      <th>4</th>\n",
       "      <td>young</td>\n",
       "      <td>5</td>\n",
       "      <td>0.233898</td>\n",
       "      <td>0.488053</td>\n",
       "      <td>0.897867</td>\n",
       "      <td>0.511095</td>\n",
       "    </tr>\n",
       "  </tbody>\n",
       "</table>\n",
       "</div>"
      ],
      "text/plain": [
       "   group  SubID        LR  Outcome_Sens  Response_cons  Loss_Aver\n",
       "0  young      1  0.159011      0.487522       0.686815   0.954498\n",
       "1  young      2  0.064666      0.511008       1.391790   0.295529\n",
       "2  young      3  0.113089      0.465141       0.918734   0.533232\n",
       "3  young      4  0.089273      0.500391       0.703737   0.869859\n",
       "4  young      5  0.233898      0.488053       0.897867   0.511095"
      ]
     },
     "execution_count": 16,
     "metadata": {},
     "output_type": "execute_result"
    }
   ],
   "source": [
    "df_pvl_delta.head()"
   ]
  },
  {
   "cell_type": "code",
   "execution_count": 17,
   "metadata": {},
   "outputs": [
    {
     "data": {
      "text/html": [
       "<div>\n",
       "<style scoped>\n",
       "    .dataframe tbody tr th:only-of-type {\n",
       "        vertical-align: middle;\n",
       "    }\n",
       "\n",
       "    .dataframe tbody tr th {\n",
       "        vertical-align: top;\n",
       "    }\n",
       "\n",
       "    .dataframe thead th {\n",
       "        text-align: right;\n",
       "    }\n",
       "</style>\n",
       "<table border=\"1\" class=\"dataframe\">\n",
       "  <thead>\n",
       "    <tr style=\"text-align: right;\">\n",
       "      <th></th>\n",
       "      <th>LR</th>\n",
       "      <th>Outcome_Sens</th>\n",
       "      <th>Response_cons</th>\n",
       "      <th>Loss_Aver</th>\n",
       "    </tr>\n",
       "  </thead>\n",
       "  <tbody>\n",
       "    <tr>\n",
       "      <th>0</th>\n",
       "      <td>0.159011</td>\n",
       "      <td>0.487522</td>\n",
       "      <td>0.686815</td>\n",
       "      <td>0.954498</td>\n",
       "    </tr>\n",
       "    <tr>\n",
       "      <th>1</th>\n",
       "      <td>0.064666</td>\n",
       "      <td>0.511008</td>\n",
       "      <td>1.391790</td>\n",
       "      <td>0.295529</td>\n",
       "    </tr>\n",
       "    <tr>\n",
       "      <th>2</th>\n",
       "      <td>0.113089</td>\n",
       "      <td>0.465141</td>\n",
       "      <td>0.918734</td>\n",
       "      <td>0.533232</td>\n",
       "    </tr>\n",
       "    <tr>\n",
       "      <th>3</th>\n",
       "      <td>0.089273</td>\n",
       "      <td>0.500391</td>\n",
       "      <td>0.703737</td>\n",
       "      <td>0.869859</td>\n",
       "    </tr>\n",
       "    <tr>\n",
       "      <th>4</th>\n",
       "      <td>0.233898</td>\n",
       "      <td>0.488053</td>\n",
       "      <td>0.897867</td>\n",
       "      <td>0.511095</td>\n",
       "    </tr>\n",
       "  </tbody>\n",
       "</table>\n",
       "</div>"
      ],
      "text/plain": [
       "         LR  Outcome_Sens  Response_cons  Loss_Aver\n",
       "0  0.159011      0.487522       0.686815   0.954498\n",
       "1  0.064666      0.511008       1.391790   0.295529\n",
       "2  0.113089      0.465141       0.918734   0.533232\n",
       "3  0.089273      0.500391       0.703737   0.869859\n",
       "4  0.233898      0.488053       0.897867   0.511095"
      ]
     },
     "execution_count": 17,
     "metadata": {},
     "output_type": "execute_result"
    }
   ],
   "source": [
    "df_pvl_delta.drop(columns=['SubID'], inplace=True)\n",
    "\n",
    "df_clustering = df_pvl_delta.drop(columns=['group'])\n",
    "df_clustering.head()"
   ]
  },
  {
   "cell_type": "code",
   "execution_count": 29,
   "metadata": {},
   "outputs": [
    {
     "data": {
      "text/html": [
       "<div>\n",
       "<style scoped>\n",
       "    .dataframe tbody tr th:only-of-type {\n",
       "        vertical-align: middle;\n",
       "    }\n",
       "\n",
       "    .dataframe tbody tr th {\n",
       "        vertical-align: top;\n",
       "    }\n",
       "\n",
       "    .dataframe thead th {\n",
       "        text-align: right;\n",
       "    }\n",
       "</style>\n",
       "<table border=\"1\" class=\"dataframe\">\n",
       "  <thead>\n",
       "    <tr style=\"text-align: right;\">\n",
       "      <th></th>\n",
       "      <th>P1</th>\n",
       "      <th>P2</th>\n",
       "    </tr>\n",
       "  </thead>\n",
       "  <tbody>\n",
       "    <tr>\n",
       "      <th>0</th>\n",
       "      <td>-0.731655</td>\n",
       "      <td>-0.315896</td>\n",
       "    </tr>\n",
       "    <tr>\n",
       "      <th>1</th>\n",
       "      <td>0.224993</td>\n",
       "      <td>0.335687</td>\n",
       "    </tr>\n",
       "  </tbody>\n",
       "</table>\n",
       "</div>"
      ],
      "text/plain": [
       "         P1        P2\n",
       "0 -0.731655 -0.315896\n",
       "1  0.224993  0.335687"
      ]
     },
     "execution_count": 29,
     "metadata": {},
     "output_type": "execute_result"
    }
   ],
   "source": [
    "# Preprocessing the data to make it visualizable \n",
    "  \n",
    "# Scaling the Data\n",
    "scaler = StandardScaler()\n",
    "X_scaled = scaler.fit_transform(df_clustering)\n",
    "\n",
    "# Normalizing the Data\n",
    "X_normalized = normalize(X_scaled)\n",
    "  \n",
    "# Converting the numpy array into a pandas DataFrame \n",
    "X_normalized = pd.DataFrame(X_normalized) \n",
    "  \n",
    "# Reducing the dimensions of the data \n",
    "pca = PCA(n_components = 2)\n",
    "X_principal = pca.fit_transform(X_normalized)\n",
    "X_principal = pd.DataFrame(X_principal)\n",
    "X_principal.columns = ['P1', 'P2']\n",
    "\n",
    "X_principal.head(2)"
   ]
  },
  {
   "cell_type": "code",
   "execution_count": 45,
   "metadata": {},
   "outputs": [
    {
     "name": "stdout",
     "output_type": "stream",
     "text": [
      "[0.23319514771763758, 0.23501910959911262, 0.10935987457458961, 0.11405104233143401, 0.10236486535668644, 0.06386373678662807, 0.06812181430343663, 0.061775977050638656, 0.06932771553572042]\n"
     ]
    },
    {
     "data": {
      "image/png": "[encoded data removed]",
      "text/plain": [
       "<Figure size 432x288 with 1 Axes>"
      ]
     },
     "metadata": {
      "needs_background": "light"
     },
     "output_type": "display_data"
    }
   ],
   "source": [
    "# List of Silhouette Scores for rbf method\n",
    "s_scores_rbf = []\n",
    "\n",
    "# Finding the optimal number of cluster for the rbf basis appraoch\n",
    "for k in range(2, 11):\n",
    "    \n",
    "    # Building the clustering model \n",
    "    spectral_model_rbf = SpectralClustering(n_clusters = k, affinity ='rbf')\n",
    "\n",
    "    # Training the model and Storing the predicted cluster labels\n",
    "    labels_rbf = spectral_model_rbf.fit_predict(X_principal)\n",
    "    \n",
    "    # Evaluating the performance \n",
    "    s_scores_rbf.append(silhouette_score(df_clustering, labels_rbf))\n",
    "\n",
    "print(s_scores_rbf)\n",
    "\n",
    "plt.plot(range(2,11), s_scores_rbf, 'bx-')\n",
    "plt.xlabel('# Clusters')\n",
    "plt.ylabel('Silhouette Scores')\n",
    "plt.title('Silhouette Scores for Different Numbers of Clusters')\n",
    "plt.show()"
   ]
  },
  {
   "cell_type": "code",
   "execution_count": 38,
   "metadata": {},
   "outputs": [
    {
     "data": {
      "image/png": "[encoded data removed]",
      "text/plain": [
       "<Figure size 432x288 with 1 Axes>"
      ]
     },
     "metadata": {
      "needs_background": "light"
     },
     "output_type": "display_data"
    }
   ],
   "source": [
    "# Visualizing the clustering \n",
    "plt.scatter(X_principal['P1'], X_principal['P2'],  \n",
    "           c = SpectralClustering(n_clusters = 3, affinity ='rbf').fit_predict(X_principal), cmap =plt.cm.winter) \n",
    "plt.show()"
   ]
  },
  {
   "cell_type": "code",
   "execution_count": 24,
   "metadata": {},
   "outputs": [],
   "source": [
    "# Building the clustering model \n",
    "spectral_model_nn = SpectralClustering(n_clusters = 2, affinity ='nearest_neighbors') \n",
    "  \n",
    "# Training the model and Storing the predicted cluster labels \n",
    "labels_nn = spectral_model_nn.fit_predict(X_principal)"
   ]
  },
  {
   "cell_type": "code",
   "execution_count": 42,
   "metadata": {},
   "outputs": [
    {
     "name": "stdout",
     "output_type": "stream",
     "text": [
      "[-0.004017433335337869, -0.004017433335337869, -0.004017433335337869, -0.0056315831254729895, -0.004017433335337869, -0.004017433335337869, -0.004017433335337869, -0.004821087840386851, -0.004017433335337869]\n"
     ]
    },
    {
     "data": {
      "image/png": "[encoded data removed]",
      "text/plain": [
       "<Figure size 432x288 with 1 Axes>"
      ]
     },
     "metadata": {
      "needs_background": "light"
     },
     "output_type": "display_data"
    }
   ],
   "source": [
    "# List of Silhouette Scores for nn method\n",
    "s_scores_nn= []\n",
    "\n",
    "# Finding the optimal number of cluster for the rbf basis appraoch\n",
    "for k in range(2, 11):\n",
    "    \n",
    "    # Building the clustering model \n",
    "    spectral_model_nn = SpectralClustering(n_clusters = k, affinity ='nearest_neighbors')\n",
    "\n",
    "    # Training the model and Storing the predicted cluster labels\n",
    "    labels_nn = spectral_model_rbf.fit_predict(X_principal)\n",
    "    \n",
    "    # Evaluating the performance\n",
    "    s_scores_nn.append(silhouette_score(df_clustering, labels_nn))\n",
    "\n",
    "print(s_scores_nn)\n",
    "\n",
    "plt.plot(range(2,11), s_scores_nn, 'bx-')\n",
    "plt.xlabel('# Clusters')\n",
    "plt.ylabel('Silhouette Scores')\n",
    "plt.title('Silhouette Scores for Different Numbers of Clusters')\n",
    "plt.show()"
   ]
  },
  {
   "cell_type": "code",
   "execution_count": 27,
   "metadata": {},
   "outputs": [
    {
     "data": {
      "image/png": "[encoded data removed]",
      "text/plain": [
       "<Figure size 432x288 with 1 Axes>"
      ]
     },
     "metadata": {
      "needs_background": "light"
     },
     "output_type": "display_data"
    },
    {
     "name": "stdout",
     "output_type": "stream",
     "text": [
      "[0.23319514771763758, 0.176649994299294]\n"
     ]
    }
   ],
   "source": [
    "# List of different values of affinity \n",
    "affinity = ['rbf', 'nearest-neighbours'] \n",
    "  \n",
    "# List of Silhouette Scores \n",
    "s_scores = [] \n",
    "  \n",
    "# Evaluating the performance \n",
    "s_scores.append(silhouette_score(df_clustering, labels_rbf)) \n",
    "s_scores.append(silhouette_score(df_clustering, labels_nn)) \n",
    "\n",
    "# Plotting a Bar Graph to compare the models \n",
    "plt.bar(affinity, s_scores) \n",
    "plt.xlabel('Affinity') \n",
    "plt.ylabel('Silhouette Score') \n",
    "plt.title('Comparison of different Clustering Models')\n",
    "plt.show()\n",
    "\n",
    "print(s_scores)"
   ]
  },
  {
   "cell_type": "code",
   "execution_count": null,
   "metadata": {},
   "outputs": [],
   "source": []
  }
 ],
 "metadata": {
  "kernelspec": {
   "display_name": "Python 3",
   "language": "python",
   "name": "python3"
  },
  "language_info": {
   "codemirror_mode": {
    "name": "ipython",
    "version": 3
   },
   "file_extension": ".py",
   "mimetype": "text/x-python",
   "name": "python",
   "nbconvert_exporter": "python",
   "pygments_lexer": "ipython3",
   "version": "3.8.5"
  }
 },
 "nbformat": 4,
 "nbformat_minor": 4
}
